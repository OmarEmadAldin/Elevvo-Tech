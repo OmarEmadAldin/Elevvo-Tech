{
 "cells": [
  {
   "cell_type": "code",
   "execution_count": null,
   "id": "5974ec0b",
   "metadata": {},
   "outputs": [],
   "source": [
    "import pandas as pd\n",
    "import numpy as np\n",
    "import matplotlib.pyplot as plt\n",
    "import os\n",
    "import seaborn as sns\n"
   ]
  },
  {
   "cell_type": "code",
   "execution_count": 16,
   "id": "db537af6",
   "metadata": {},
   "outputs": [],
   "source": [
    "from sklearn.preprocessing import LabelEncoder"
   ]
  },
  {
   "cell_type": "code",
   "execution_count": 3,
   "id": "d5d97ded",
   "metadata": {},
   "outputs": [],
   "source": [
    "try:\n",
    "    BASE_DIR = os.path.dirname(os.path.abspath(__file__))\n",
    "except NameError:\n",
    "    # Fallback for Jupyter or interactive mode\n",
    "    BASE_DIR = os.getcwd()\n",
    "\n",
    "file_path = os.path.join(BASE_DIR, \"Data\", \"loan_approval_dataset.csv\")\n",
    "df = pd.read_csv(file_path)\n"
   ]
  },
  {
   "cell_type": "code",
   "execution_count": 4,
   "id": "e64a6aa7",
   "metadata": {},
   "outputs": [
    {
     "data": {
      "text/html": [
       "<div>\n",
       "<style scoped>\n",
       "    .dataframe tbody tr th:only-of-type {\n",
       "        vertical-align: middle;\n",
       "    }\n",
       "\n",
       "    .dataframe tbody tr th {\n",
       "        vertical-align: top;\n",
       "    }\n",
       "\n",
       "    .dataframe thead th {\n",
       "        text-align: right;\n",
       "    }\n",
       "</style>\n",
       "<table border=\"1\" class=\"dataframe\">\n",
       "  <thead>\n",
       "    <tr style=\"text-align: right;\">\n",
       "      <th></th>\n",
       "      <th>loan_id</th>\n",
       "      <th>no_of_dependents</th>\n",
       "      <th>education</th>\n",
       "      <th>self_employed</th>\n",
       "      <th>income_annum</th>\n",
       "      <th>loan_amount</th>\n",
       "      <th>loan_term</th>\n",
       "      <th>cibil_score</th>\n",
       "      <th>residential_assets_value</th>\n",
       "      <th>commercial_assets_value</th>\n",
       "      <th>luxury_assets_value</th>\n",
       "      <th>bank_asset_value</th>\n",
       "      <th>loan_status</th>\n",
       "    </tr>\n",
       "  </thead>\n",
       "  <tbody>\n",
       "    <tr>\n",
       "      <th>0</th>\n",
       "      <td>1</td>\n",
       "      <td>2</td>\n",
       "      <td>Graduate</td>\n",
       "      <td>No</td>\n",
       "      <td>9600000</td>\n",
       "      <td>29900000</td>\n",
       "      <td>12</td>\n",
       "      <td>778</td>\n",
       "      <td>2400000</td>\n",
       "      <td>17600000</td>\n",
       "      <td>22700000</td>\n",
       "      <td>8000000</td>\n",
       "      <td>Approved</td>\n",
       "    </tr>\n",
       "    <tr>\n",
       "      <th>1</th>\n",
       "      <td>2</td>\n",
       "      <td>0</td>\n",
       "      <td>Not Graduate</td>\n",
       "      <td>Yes</td>\n",
       "      <td>4100000</td>\n",
       "      <td>12200000</td>\n",
       "      <td>8</td>\n",
       "      <td>417</td>\n",
       "      <td>2700000</td>\n",
       "      <td>2200000</td>\n",
       "      <td>8800000</td>\n",
       "      <td>3300000</td>\n",
       "      <td>Rejected</td>\n",
       "    </tr>\n",
       "    <tr>\n",
       "      <th>2</th>\n",
       "      <td>3</td>\n",
       "      <td>3</td>\n",
       "      <td>Graduate</td>\n",
       "      <td>No</td>\n",
       "      <td>9100000</td>\n",
       "      <td>29700000</td>\n",
       "      <td>20</td>\n",
       "      <td>506</td>\n",
       "      <td>7100000</td>\n",
       "      <td>4500000</td>\n",
       "      <td>33300000</td>\n",
       "      <td>12800000</td>\n",
       "      <td>Rejected</td>\n",
       "    </tr>\n",
       "    <tr>\n",
       "      <th>3</th>\n",
       "      <td>4</td>\n",
       "      <td>3</td>\n",
       "      <td>Graduate</td>\n",
       "      <td>No</td>\n",
       "      <td>8200000</td>\n",
       "      <td>30700000</td>\n",
       "      <td>8</td>\n",
       "      <td>467</td>\n",
       "      <td>18200000</td>\n",
       "      <td>3300000</td>\n",
       "      <td>23300000</td>\n",
       "      <td>7900000</td>\n",
       "      <td>Rejected</td>\n",
       "    </tr>\n",
       "    <tr>\n",
       "      <th>4</th>\n",
       "      <td>5</td>\n",
       "      <td>5</td>\n",
       "      <td>Not Graduate</td>\n",
       "      <td>Yes</td>\n",
       "      <td>9800000</td>\n",
       "      <td>24200000</td>\n",
       "      <td>20</td>\n",
       "      <td>382</td>\n",
       "      <td>12400000</td>\n",
       "      <td>8200000</td>\n",
       "      <td>29400000</td>\n",
       "      <td>5000000</td>\n",
       "      <td>Rejected</td>\n",
       "    </tr>\n",
       "  </tbody>\n",
       "</table>\n",
       "</div>"
      ],
      "text/plain": [
       "   loan_id   no_of_dependents      education  self_employed   income_annum  \\\n",
       "0        1                  2       Graduate             No        9600000   \n",
       "1        2                  0   Not Graduate            Yes        4100000   \n",
       "2        3                  3       Graduate             No        9100000   \n",
       "3        4                  3       Graduate             No        8200000   \n",
       "4        5                  5   Not Graduate            Yes        9800000   \n",
       "\n",
       "    loan_amount   loan_term   cibil_score   residential_assets_value  \\\n",
       "0      29900000          12           778                    2400000   \n",
       "1      12200000           8           417                    2700000   \n",
       "2      29700000          20           506                    7100000   \n",
       "3      30700000           8           467                   18200000   \n",
       "4      24200000          20           382                   12400000   \n",
       "\n",
       "    commercial_assets_value   luxury_assets_value   bank_asset_value  \\\n",
       "0                  17600000              22700000            8000000   \n",
       "1                   2200000               8800000            3300000   \n",
       "2                   4500000              33300000           12800000   \n",
       "3                   3300000              23300000            7900000   \n",
       "4                   8200000              29400000            5000000   \n",
       "\n",
       "   loan_status  \n",
       "0     Approved  \n",
       "1     Rejected  \n",
       "2     Rejected  \n",
       "3     Rejected  \n",
       "4     Rejected  "
      ]
     },
     "execution_count": 4,
     "metadata": {},
     "output_type": "execute_result"
    }
   ],
   "source": [
    "df.head()"
   ]
  },
  {
   "cell_type": "code",
   "execution_count": 5,
   "id": "811d7c80",
   "metadata": {},
   "outputs": [
    {
     "data": {
      "text/plain": [
       "loan_id                       int64\n",
       " no_of_dependents             int64\n",
       " education                   object\n",
       " self_employed               object\n",
       " income_annum                 int64\n",
       " loan_amount                  int64\n",
       " loan_term                    int64\n",
       " cibil_score                  int64\n",
       " residential_assets_value     int64\n",
       " commercial_assets_value      int64\n",
       " luxury_assets_value          int64\n",
       " bank_asset_value             int64\n",
       " loan_status                 object\n",
       "dtype: object"
      ]
     },
     "execution_count": 5,
     "metadata": {},
     "output_type": "execute_result"
    }
   ],
   "source": [
    "df.dtypes"
   ]
  },
  {
   "cell_type": "code",
   "execution_count": 7,
   "id": "c23cfa9c",
   "metadata": {},
   "outputs": [
    {
     "name": "stdout",
     "output_type": "stream",
     "text": [
      "<class 'pandas.core.frame.DataFrame'>\n",
      "RangeIndex: 4269 entries, 0 to 4268\n",
      "Data columns (total 13 columns):\n",
      " #   Column                     Non-Null Count  Dtype \n",
      "---  ------                     --------------  ----- \n",
      " 0   loan_id                    4269 non-null   int64 \n",
      " 1    no_of_dependents          4269 non-null   int64 \n",
      " 2    education                 4269 non-null   object\n",
      " 3    self_employed             4269 non-null   object\n",
      " 4    income_annum              4269 non-null   int64 \n",
      " 5    loan_amount               4269 non-null   int64 \n",
      " 6    loan_term                 4269 non-null   int64 \n",
      " 7    cibil_score               4269 non-null   int64 \n",
      " 8    residential_assets_value  4269 non-null   int64 \n",
      " 9    commercial_assets_value   4269 non-null   int64 \n",
      " 10   luxury_assets_value       4269 non-null   int64 \n",
      " 11   bank_asset_value          4269 non-null   int64 \n",
      " 12   loan_status               4269 non-null   object\n",
      "dtypes: int64(10), object(3)\n",
      "memory usage: 433.7+ KB\n"
     ]
    }
   ],
   "source": [
    "df.info()"
   ]
  },
  {
   "cell_type": "code",
   "execution_count": 8,
   "id": "eab76194",
   "metadata": {},
   "outputs": [
    {
     "name": "stdout",
     "output_type": "stream",
     "text": [
      "================================================================================\n",
      "DATASET OVERVIEW\n",
      "================================================================================\n",
      "\n",
      "Dataset Shape: (4269, 13)\n",
      "Number of samples: 4269\n",
      "Number of features: 13\n"
     ]
    }
   ],
   "source": [
    "print(\"=\" * 80)\n",
    "print(\"DATASET OVERVIEW\")\n",
    "print(\"=\" * 80)\n",
    "print(f\"\\nDataset Shape: {df.shape}\")\n",
    "print(f\"Number of samples: {df.shape[0]}\")\n",
    "print(f\"Number of features: {df.shape[1]}\")"
   ]
  },
  {
   "cell_type": "code",
   "execution_count": 9,
   "id": "2eb0ff3e",
   "metadata": {},
   "outputs": [
    {
     "name": "stdout",
     "output_type": "stream",
     "text": [
      "['loan_id', ' no_of_dependents', ' education', ' self_employed', ' income_annum', ' loan_amount', ' loan_term', ' cibil_score', ' residential_assets_value', ' commercial_assets_value', ' luxury_assets_value', ' bank_asset_value', ' loan_status']\n"
     ]
    }
   ],
   "source": [
    "print(df.columns.tolist())\n"
   ]
  },
  {
   "cell_type": "code",
   "execution_count": 10,
   "id": "f98f7428",
   "metadata": {},
   "outputs": [
    {
     "name": "stdout",
     "output_type": "stream",
     "text": [
      "\n",
      "================================================================================\n",
      "STATISTICAL SUMMARY\n",
      "================================================================================\n",
      "           loan_id   no_of_dependents   income_annum   loan_amount  \\\n",
      "count  4269.000000        4269.000000   4.269000e+03  4.269000e+03   \n",
      "mean   2135.000000           2.498712   5.059124e+06  1.513345e+07   \n",
      "std    1232.498479           1.695910   2.806840e+06  9.043363e+06   \n",
      "min       1.000000           0.000000   2.000000e+05  3.000000e+05   \n",
      "25%    1068.000000           1.000000   2.700000e+06  7.700000e+06   \n",
      "50%    2135.000000           3.000000   5.100000e+06  1.450000e+07   \n",
      "75%    3202.000000           4.000000   7.500000e+06  2.150000e+07   \n",
      "max    4269.000000           5.000000   9.900000e+06  3.950000e+07   \n",
      "\n",
      "         loan_term   cibil_score   residential_assets_value  \\\n",
      "count  4269.000000   4269.000000               4.269000e+03   \n",
      "mean     10.900445    599.936051               7.472617e+06   \n",
      "std       5.709187    172.430401               6.503637e+06   \n",
      "min       2.000000    300.000000              -1.000000e+05   \n",
      "25%       6.000000    453.000000               2.200000e+06   \n",
      "50%      10.000000    600.000000               5.600000e+06   \n",
      "75%      16.000000    748.000000               1.130000e+07   \n",
      "max      20.000000    900.000000               2.910000e+07   \n",
      "\n",
      "        commercial_assets_value   luxury_assets_value   bank_asset_value  \n",
      "count              4.269000e+03          4.269000e+03       4.269000e+03  \n",
      "mean               4.973155e+06          1.512631e+07       4.976692e+06  \n",
      "std                4.388966e+06          9.103754e+06       3.250185e+06  \n",
      "min                0.000000e+00          3.000000e+05       0.000000e+00  \n",
      "25%                1.300000e+06          7.500000e+06       2.300000e+06  \n",
      "50%                3.700000e+06          1.460000e+07       4.600000e+06  \n",
      "75%                7.600000e+06          2.170000e+07       7.100000e+06  \n",
      "max                1.940000e+07          3.920000e+07       1.470000e+07  \n"
     ]
    }
   ],
   "source": [
    "print(\"\\n\" + \"=\" * 80)\n",
    "print(\"STATISTICAL SUMMARY\")\n",
    "print(\"=\" * 80)\n",
    "print(df.describe())"
   ]
  },
  {
   "cell_type": "code",
   "execution_count": 12,
   "id": "6d927578",
   "metadata": {},
   "outputs": [
    {
     "name": "stdout",
     "output_type": "stream",
     "text": [
      "\n",
      "================================================================================\n",
      "MISSING VALUES ANALYSIS\n",
      "================================================================================\n",
      "Empty DataFrame\n",
      "Columns: [Column, Missing_Count, Percentage]\n",
      "Index: []\n"
     ]
    }
   ],
   "source": [
    "print(\"\\n\" + \"=\" * 80)\n",
    "print(\"MISSING VALUES ANALYSIS\")\n",
    "print(\"=\" * 80)\n",
    "\n",
    "missing_data = pd.DataFrame({\n",
    "    'Column': df.columns,\n",
    "    'Missing_Count': df.isnull().sum(),\n",
    "    'Percentage': (df.isnull().sum() / len(df)) * 100\n",
    "})\n",
    "missing_data = missing_data[missing_data['Missing_Count'] > 0].sort_values(\n",
    "    'Missing_Count', ascending=False\n",
    ")\n",
    "print(missing_data)"
   ]
  },
  {
   "cell_type": "code",
   "execution_count": 13,
   "id": "3dd72686",
   "metadata": {},
   "outputs": [
    {
     "name": "stdout",
     "output_type": "stream",
     "text": [
      "\n",
      "Missing values (%):\n",
      "loan_id                      0.0\n",
      " no_of_dependents            0.0\n",
      " education                   0.0\n",
      " self_employed               0.0\n",
      " income_annum                0.0\n",
      " loan_amount                 0.0\n",
      " loan_term                   0.0\n",
      " cibil_score                 0.0\n",
      " residential_assets_value    0.0\n",
      " commercial_assets_value     0.0\n",
      "dtype: float64\n"
     ]
    }
   ],
   "source": [
    "print('\\nMissing values (%):')\n",
    "print((df.isnull().mean()*100).sort_values(ascending=False).head(10))"
   ]
  },
  {
   "cell_type": "markdown",
   "id": "28dcf72c",
   "metadata": {},
   "source": [
    "# Cleaning data"
   ]
  },
  {
   "cell_type": "code",
   "execution_count": 14,
   "id": "db69e184",
   "metadata": {},
   "outputs": [
    {
     "name": "stdout",
     "output_type": "stream",
     "text": [
      "\n",
      "Missing values after cleaning: 0\n"
     ]
    }
   ],
   "source": [
    "df_clean = df.copy()\n",
    "# Categorical columns - fill missing values with mode\n",
    "categorical_cols = df_clean.select_dtypes(include=['object']).columns\n",
    "for col in categorical_cols:\n",
    "    if df_clean[col].isnull().sum() > 0:\n",
    "        mode_value = df_clean[col].mode()[0]\n",
    "        df_clean[col].fillna(mode_value, inplace=True)\n",
    "        print(f\"Filled '{col}' with mode: {mode_value}\")\n",
    "# Numerical columns - fill missing values with median\n",
    "numerical_cols = df_clean.select_dtypes(include=['int64', 'float64']).columns\n",
    "for col in numerical_cols:\n",
    "    if df_clean[col].isnull().sum() > 0:\n",
    "        median_value = df_clean[col].median()\n",
    "        df_clean[col].fillna(median_value, inplace=True)\n",
    "        print(f\"Filled '{col}' with median: {median_value}\")\n",
    "\n",
    "print(f\"\\nMissing values after cleaning: {df_clean.isnull().sum().sum()}\")"
   ]
  },
  {
   "cell_type": "code",
   "execution_count": 17,
   "id": "e57b5525",
   "metadata": {},
   "outputs": [
    {
     "name": "stdout",
     "output_type": "stream",
     "text": [
      "\n",
      "Target encoding: {' Approved': 0, ' Rejected': 1}\n",
      "Encoded ' education': {' Graduate': 0, ' Not Graduate': 1}\n",
      "Encoded ' self_employed': {' No': 0, ' Yes': 1}\n"
     ]
    }
   ],
   "source": [
    "if 'loan_id' in df_clean.columns:\n",
    "    df_clean = df_clean.drop('loan_id', axis=1)\n",
    "    print(\"Dropped 'loan_id' column\")\n",
    "\n",
    "# Encode target variable\n",
    "le_target = LabelEncoder()\n",
    "df_clean[' loan_status'] = le_target.fit_transform(df_clean[' loan_status'])\n",
    "print(f\"\\nTarget encoding: {dict(zip(le_target.classes_, le_target.transform(le_target.classes_)))}\")\n",
    "\n",
    "# Encode categorical features\n",
    "label_encoders = {}\n",
    "categorical_features = df_clean.select_dtypes(include=['object']).columns\n",
    "\n",
    "for col in categorical_features:\n",
    "    le = LabelEncoder()\n",
    "    df_clean[col] = le.fit_transform(df_clean[col])\n",
    "    label_encoders[col] = le\n",
    "    print(f\"Encoded '{col}': {dict(zip(le.classes_, le.transform(le.classes_)))}\")"
   ]
  },
  {
   "cell_type": "code",
   "execution_count": 18,
   "id": "b83dd71d",
   "metadata": {},
   "outputs": [
    {
     "name": "stdout",
     "output_type": "stream",
     "text": [
      "\n",
      "================================================================================\n",
      "FINAL DATASET AFTER ENCODING\n",
      "================================================================================\n",
      "   no_of_dependents  education  self_employed  income_annum  loan_amount  \\\n",
      "0                 2          0              0       9600000     29900000   \n",
      "1                 0          1              1       4100000     12200000   \n",
      "2                 3          0              0       9100000     29700000   \n",
      "3                 3          0              0       8200000     30700000   \n",
      "4                 5          1              1       9800000     24200000   \n",
      "\n",
      "   loan_term  cibil_score  residential_assets_value  commercial_assets_value  \\\n",
      "0         12          778                   2400000                 17600000   \n",
      "1          8          417                   2700000                  2200000   \n",
      "2         20          506                   7100000                  4500000   \n",
      "3          8          467                  18200000                  3300000   \n",
      "4         20          382                  12400000                  8200000   \n",
      "\n",
      "   luxury_assets_value  bank_asset_value  loan_status  \n",
      "0             22700000           8000000            0  \n",
      "1              8800000           3300000            1  \n",
      "2             33300000          12800000            1  \n",
      "3             23300000           7900000            1  \n",
      "4             29400000           5000000            1  \n",
      "\n",
      "Final shape: (4269, 12)\n"
     ]
    }
   ],
   "source": [
    "print(\"\\n\" + \"=\" * 80)\n",
    "print(\"FINAL DATASET AFTER ENCODING\")\n",
    "print(\"=\" * 80)\n",
    "print(df_clean.head())\n",
    "print(f\"\\nFinal shape: {df_clean.shape}\")"
   ]
  },
  {
   "cell_type": "code",
   "execution_count": 19,
   "id": "f2cf661a",
   "metadata": {},
   "outputs": [],
   "source": [
    "df_clean.to_csv('cleaned_data.csv', index=False)\n"
   ]
  }
 ],
 "metadata": {
  "kernelspec": {
   "display_name": "Python 3",
   "language": "python",
   "name": "python3"
  },
  "language_info": {
   "codemirror_mode": {
    "name": "ipython",
    "version": 3
   },
   "file_extension": ".py",
   "mimetype": "text/x-python",
   "name": "python",
   "nbconvert_exporter": "python",
   "pygments_lexer": "ipython3",
   "version": "3.10.8"
  }
 },
 "nbformat": 4,
 "nbformat_minor": 5
}
