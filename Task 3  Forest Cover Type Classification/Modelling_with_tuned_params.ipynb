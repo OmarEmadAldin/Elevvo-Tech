{
 "cells": [
  {
   "cell_type": "code",
   "execution_count": 6,
   "id": "bde5ac61",
   "metadata": {},
   "outputs": [],
   "source": [
    "\n",
    "import json\n",
    "import joblib\n",
    "import pandas as pd\n",
    "import numpy as np\n",
    "\n",
    "import matplotlib.pyplot as plt\n",
    "from sklearn.metrics import accuracy_score, precision_score, recall_score, f1_score, classification_report\n",
    "import os\n",
    "from sklearn.model_selection import train_test_split \n",
    "from sklearn.tree import DecisionTreeClassifier\n",
    "from sklearn.ensemble import RandomForestClassifier\n",
    "from xgboost import XGBClassifier\n"
   ]
  },
  {
   "cell_type": "code",
   "execution_count": 10,
   "id": "c12f2894",
   "metadata": {},
   "outputs": [],
   "source": [
    "try:\n",
    "    BASE_DIR = os.path.dirname(os.path.abspath(__file__))\n",
    "except NameError:\n",
    "    # Fallback for Jupyter or interactive mode\n",
    "    BASE_DIR = os.getcwd()\n",
    "\n",
    "file_path = os.path.join(BASE_DIR, \"Data\", \"covtype.csv\")\n",
    "df = pd.read_csv(file_path)\n",
    "X = df.drop('Cover_Type', axis=1)\n",
    "y = df['Cover_Type']\n",
    "X_train, X_test, y_train, y_test = train_test_split(X, y, test_size=0.2, random_state=42, stratify=y)\n",
    "y_train_xbg = y_train - 1\n",
    "y_test_xbg = y_test - 1"
   ]
  },
  {
   "cell_type": "code",
   "execution_count": 11,
   "id": "174ad8f7",
   "metadata": {},
   "outputs": [
    {
     "name": "stdout",
     "output_type": "stream",
     "text": [
      "✅ Loaded tuned parameters for Decision Tree, Random Forest, and XGBoost\n",
      "\n",
      "⏳ Training models...\n"
     ]
    },
    {
     "name": "stderr",
     "output_type": "stream",
     "text": [
      "c:\\Users\\Omar Ben Emad\\AppData\\Local\\Programs\\Python\\Python310\\lib\\site-packages\\xgboost\\training.py:183: UserWarning: [22:42:48] WARNING: C:\\actions-runner\\_work\\xgboost\\xgboost\\src\\learner.cc:738: \n",
      "Parameters: { \"use_label_encoder\" } are not used.\n",
      "\n",
      "  bst.update(dtrain, iteration=i, fobj=obj)\n"
     ]
    },
    {
     "name": "stdout",
     "output_type": "stream",
     "text": [
      "\n",
      "📊 Decision Tree Classification Report:\n",
      "               precision    recall  f1-score   support\n",
      "\n",
      "           1       0.92      0.88      0.90     42368\n",
      "           2       0.90      0.94      0.92     56661\n",
      "           3       0.91      0.90      0.91      7151\n",
      "           4       0.85      0.78      0.82       549\n",
      "           5       0.82      0.59      0.68      1899\n",
      "           6       0.82      0.80      0.81      3473\n",
      "           7       0.95      0.92      0.93      4102\n",
      "\n",
      "    accuracy                           0.90    116203\n",
      "   macro avg       0.88      0.83      0.85    116203\n",
      "weighted avg       0.90      0.90      0.90    116203\n",
      "\n",
      "\n",
      "📊 Random Forest Classification Report:\n",
      "               precision    recall  f1-score   support\n",
      "\n",
      "           1       0.97      0.95      0.96     42368\n",
      "           2       0.96      0.98      0.97     56661\n",
      "           3       0.95      0.97      0.96      7151\n",
      "           4       0.92      0.86      0.89       549\n",
      "           5       0.95      0.82      0.88      1899\n",
      "           6       0.94      0.91      0.92      3473\n",
      "           7       0.97      0.96      0.96      4102\n",
      "\n",
      "    accuracy                           0.96    116203\n",
      "   macro avg       0.95      0.92      0.93    116203\n",
      "weighted avg       0.96      0.96      0.96    116203\n",
      "\n",
      "\n",
      "📊 XGBoost Classification Report:\n",
      "               precision    recall  f1-score   support\n",
      "\n",
      "           0       0.97      0.96      0.97     42368\n",
      "           1       0.97      0.98      0.97     56661\n",
      "           2       0.96      0.97      0.97      7151\n",
      "           3       0.91      0.86      0.88       549\n",
      "           4       0.94      0.89      0.92      1899\n",
      "           5       0.94      0.94      0.94      3473\n",
      "           6       0.97      0.97      0.97      4102\n",
      "\n",
      "    accuracy                           0.97    116203\n",
      "   macro avg       0.95      0.94      0.95    116203\n",
      "weighted avg       0.97      0.97      0.97    116203\n",
      "\n",
      "\n",
      "🏆 Model Comparison:\n",
      "           Model  Accuracy  Precision    Recall  F1 Score\n",
      "2        XGBoost  0.968151   0.968111  0.968151  0.968103\n",
      "1  Random Forest  0.960122   0.960167  0.960122  0.959975\n",
      "0  Decision Tree  0.903643   0.903655  0.903643  0.902910\n"
     ]
    },
    {
     "data": {
      "image/png": "[encoded data removed]",
      "text/plain": [
       "<Figure size 800x500 with 1 Axes>"
      ]
     },
     "metadata": {},
     "output_type": "display_data"
    },
    {
     "name": "stdout",
     "output_type": "stream",
     "text": [
      "\n",
      "💾 Saved tuned models: Decision Tree, Random Forest, and XGBoost.\n"
     ]
    }
   ],
   "source": [
    "\n",
    "with open('best_dt_params.json', 'r') as f:\n",
    "    dt_params = json.load(f)\n",
    "with open('best_rf_params.json', 'r') as f:\n",
    "    rf_params = json.load(f)\n",
    "with open('best_xgb_params.json', 'r') as f:\n",
    "    xgb_params = json.load(f)\n",
    "\n",
    "print('✅ Loaded tuned parameters for Decision Tree, Random Forest, and XGBoost')\n",
    "\n",
    "\n",
    "dt_model = DecisionTreeClassifier(**dt_params, random_state=42)\n",
    "rf_model = RandomForestClassifier(**rf_params, random_state=42)\n",
    "xgb_model = XGBClassifier(**xgb_params, random_state=42, use_label_encoder=False, eval_metric='mlogloss')\n",
    "\n",
    "\n",
    "print('\\n⏳ Training models...')\n",
    "dt_model.fit(X_train, y_train)\n",
    "rf_model.fit(X_train, y_train)\n",
    "xgb_model.fit(X_train, y_train_xbg)\n",
    "\n",
    "\n",
    "models = {\n",
    "    'Decision Tree': dt_model,\n",
    "    'Random Forest': rf_model,\n",
    "    'XGBoost': xgb_model\n",
    "}\n",
    "\n",
    "results = []\n",
    "\n",
    "for name, model in models.items():\n",
    "    # Use the correct y_test for XGBoost\n",
    "    if name == 'XGBoost':\n",
    "        y_pred = model.predict(X_test)\n",
    "        y_true = y_test_xbg  # or y_test shifted (e.g. np.array(y_test) - 1)\n",
    "    else:\n",
    "        y_pred = model.predict(X_test)\n",
    "        y_true = y_test\n",
    "\n",
    "    results.append({\n",
    "        'Model': name,\n",
    "        'Accuracy': accuracy_score(y_true, y_pred),\n",
    "        'Precision': precision_score(y_true, y_pred, average='weighted'),\n",
    "        'Recall': recall_score(y_true, y_pred, average='weighted'),\n",
    "        'F1 Score': f1_score(y_true, y_pred, average='weighted')\n",
    "    })\n",
    "    print(f\"\\n📊 {name} Classification Report:\\n\", classification_report(y_true, y_pred))\n",
    "\n",
    "df_results = pd.DataFrame(results).sort_values(by='Accuracy', ascending=False)\n",
    "print('\\n🏆 Model Comparison:')\n",
    "print(df_results)\n",
    "\n",
    "# Visualization\n",
    "plt.figure(figsize=(8,5))\n",
    "plt.bar(df_results['Model'], df_results['Accuracy'], color=['orange','green','blue'])\n",
    "plt.title('Model Accuracy Comparison')\n",
    "plt.ylabel('Accuracy')\n",
    "plt.grid(axis='y', linestyle='--', alpha=0.7)\n",
    "plt.show()\n",
    "\n",
    "# =============================\n",
    "#Save Models\n",
    "# =============================\n",
    "joblib.dump(dt_model, 'final_tuned_decision_tree.pkl')\n",
    "joblib.dump(rf_model, 'final_tuned_random_forest.pkl')\n",
    "joblib.dump(xgb_model, 'final_tuned_xgboost.pkl')\n",
    "\n",
    "print('\\n💾 Saved tuned models: Decision Tree, Random Forest, and XGBoost.')"
   ]
  }
 ],
 "metadata": {
  "kernelspec": {
   "display_name": "Python 3",
   "language": "python",
   "name": "python3"
  },
  "language_info": {
   "codemirror_mode": {
    "name": "ipython",
    "version": 3
   },
   "file_extension": ".py",
   "mimetype": "text/x-python",
   "name": "python",
   "nbconvert_exporter": "python",
   "pygments_lexer": "ipython3",
   "version": "3.10.8"
  }
 },
 "nbformat": 4,
 "nbformat_minor": 5
}
