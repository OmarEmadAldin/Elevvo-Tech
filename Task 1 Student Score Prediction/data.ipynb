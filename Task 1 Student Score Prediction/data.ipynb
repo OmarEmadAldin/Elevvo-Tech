{
 "cells": [
  {
   "cell_type": "code",
   "execution_count": 2,
   "id": "3b8a246d",
   "metadata": {},
   "outputs": [],
   "source": [
    "import pandas as pd\n",
    "import os"
   ]
  },
  {
   "cell_type": "code",
   "execution_count": 13,
   "id": "c553dab9",
   "metadata": {},
   "outputs": [],
   "source": [
    "try:\n",
    "    BASE_DIR = os.path.dirname(os.path.abspath(__file__))\n",
    "except NameError:\n",
    "    # Fallback for Jupyter or interactive mode\n",
    "    BASE_DIR = os.getcwd()\n",
    "\n",
    "file_path = os.path.join(BASE_DIR, \"data\", \"StudentPerformanceFactors.csv\")\n",
    "df = pd.read_csv(file_path)\n"
   ]
  },
  {
   "cell_type": "code",
   "execution_count": 14,
   "id": "8a5c5f44",
   "metadata": {},
   "outputs": [
    {
     "name": "stdout",
     "output_type": "stream",
     "text": [
      "<class 'pandas.core.frame.DataFrame'>\n",
      "RangeIndex: 6607 entries, 0 to 6606\n",
      "Data columns (total 20 columns):\n",
      " #   Column                      Non-Null Count  Dtype \n",
      "---  ------                      --------------  ----- \n",
      " 0   Hours_Studied               6607 non-null   int64 \n",
      " 1   Attendance                  6607 non-null   int64 \n",
      " 2   Parental_Involvement        6607 non-null   object\n",
      " 3   Access_to_Resources         6607 non-null   object\n",
      " 4   Extracurricular_Activities  6607 non-null   object\n",
      " 5   Sleep_Hours                 6607 non-null   int64 \n",
      " 6   Previous_Scores             6607 non-null   int64 \n",
      " 7   Motivation_Level            6607 non-null   object\n",
      " 8   Internet_Access             6607 non-null   object\n",
      " 9   Tutoring_Sessions           6607 non-null   int64 \n",
      " 10  Family_Income               6607 non-null   object\n",
      " 11  Teacher_Quality             6529 non-null   object\n",
      " 12  School_Type                 6607 non-null   object\n",
      " 13  Peer_Influence              6607 non-null   object\n",
      " 14  Physical_Activity           6607 non-null   int64 \n",
      " 15  Learning_Disabilities       6607 non-null   object\n",
      " 16  Parental_Education_Level    6517 non-null   object\n",
      " 17  Distance_from_Home          6540 non-null   object\n",
      " 18  Gender                      6607 non-null   object\n",
      " 19  Exam_Score                  6607 non-null   int64 \n",
      "dtypes: int64(7), object(13)\n",
      "memory usage: 1.0+ MB\n",
      "None\n"
     ]
    }
   ],
   "source": [
    "print(df.info())"
   ]
  },
  {
   "cell_type": "code",
   "execution_count": 15,
   "id": "0a6de080",
   "metadata": {},
   "outputs": [
    {
     "name": "stdout",
     "output_type": "stream",
     "text": [
      "   Hours_Studied  Attendance Parental_Involvement Access_to_Resources  \\\n",
      "0             23          84                  Low                High   \n",
      "1             19          64                  Low              Medium   \n",
      "2             24          98               Medium              Medium   \n",
      "3             29          89                  Low              Medium   \n",
      "4             19          92               Medium              Medium   \n",
      "\n",
      "  Extracurricular_Activities  Sleep_Hours  Previous_Scores Motivation_Level  \\\n",
      "0                         No            7               73              Low   \n",
      "1                         No            8               59              Low   \n",
      "2                        Yes            7               91           Medium   \n",
      "3                        Yes            8               98           Medium   \n",
      "4                        Yes            6               65           Medium   \n",
      "\n",
      "  Internet_Access  Tutoring_Sessions Family_Income Teacher_Quality  \\\n",
      "0             Yes                  0           Low          Medium   \n",
      "1             Yes                  2        Medium          Medium   \n",
      "2             Yes                  2        Medium          Medium   \n",
      "3             Yes                  1        Medium          Medium   \n",
      "4             Yes                  3        Medium            High   \n",
      "\n",
      "  School_Type Peer_Influence  Physical_Activity Learning_Disabilities  \\\n",
      "0      Public       Positive                  3                    No   \n",
      "1      Public       Negative                  4                    No   \n",
      "2      Public        Neutral                  4                    No   \n",
      "3      Public       Negative                  4                    No   \n",
      "4      Public        Neutral                  4                    No   \n",
      "\n",
      "  Parental_Education_Level Distance_from_Home  Gender  Exam_Score  \n",
      "0              High School               Near    Male          67  \n",
      "1                  College           Moderate  Female          61  \n",
      "2             Postgraduate               Near    Male          74  \n",
      "3              High School           Moderate    Male          71  \n",
      "4                  College               Near  Female          70  \n"
     ]
    }
   ],
   "source": [
    "print(df.head())"
   ]
  },
  {
   "cell_type": "code",
   "execution_count": 12,
   "id": "c61b429d",
   "metadata": {},
   "outputs": [
    {
     "name": "stdout",
     "output_type": "stream",
     "text": [
      "The dataset contains 6607 rows and 20 columns.\n"
     ]
    }
   ],
   "source": [
    "rows, cols = df.shape\n",
    "print(f\"The dataset contains {rows} rows and {cols} columns.\")"
   ]
  },
  {
   "cell_type": "code",
   "execution_count": 19,
   "id": "35601e23",
   "metadata": {},
   "outputs": [
    {
     "data": {
      "text/plain": [
       "Hours_Studied                  int64\n",
       "Attendance                     int64\n",
       "Parental_Involvement          object\n",
       "Access_to_Resources           object\n",
       "Extracurricular_Activities    object\n",
       "Sleep_Hours                    int64\n",
       "Previous_Scores                int64\n",
       "Motivation_Level              object\n",
       "Internet_Access               object\n",
       "Tutoring_Sessions              int64\n",
       "Family_Income                 object\n",
       "Teacher_Quality               object\n",
       "School_Type                   object\n",
       "Peer_Influence                object\n",
       "Physical_Activity              int64\n",
       "Learning_Disabilities         object\n",
       "Parental_Education_Level      object\n",
       "Distance_from_Home            object\n",
       "Gender                        object\n",
       "Exam_Score                     int64\n",
       "dtype: object"
      ]
     },
     "execution_count": 19,
     "metadata": {},
     "output_type": "execute_result"
    }
   ],
   "source": [
    "df.dtypes"
   ]
  },
  {
   "cell_type": "code",
   "execution_count": 20,
   "id": "48d76ca7",
   "metadata": {},
   "outputs": [
    {
     "name": "stdout",
     "output_type": "stream",
     "text": [
      "Categorical columns: Index(['Parental_Involvement', 'Access_to_Resources',\n",
      "       'Extracurricular_Activities', 'Motivation_Level', 'Internet_Access',\n",
      "       'Family_Income', 'Teacher_Quality', 'School_Type', 'Peer_Influence',\n",
      "       'Learning_Disabilities', 'Parental_Education_Level',\n",
      "       'Distance_from_Home', 'Gender'],\n",
      "      dtype='object')\n",
      "Numerical columns: Index(['Hours_Studied', 'Attendance', 'Sleep_Hours', 'Previous_Scores',\n",
      "       'Tutoring_Sessions', 'Physical_Activity', 'Exam_Score'],\n",
      "      dtype='object')\n"
     ]
    }
   ],
   "source": [
    "categorical_cols = df.select_dtypes(include='object').columns\n",
    "numerical_cols = df.select_dtypes(include='number').columns\n",
    "\n",
    "print(\"Categorical columns:\", categorical_cols)\n",
    "print(\"Numerical columns:\", numerical_cols)\n"
   ]
  },
  {
   "cell_type": "markdown",
   "id": "492d7e2c",
   "metadata": {},
   "source": [
    "# Data cleaning"
   ]
  },
  {
   "cell_type": "code",
   "execution_count": 16,
   "id": "113ccbf3",
   "metadata": {},
   "outputs": [
    {
     "data": {
      "text/plain": [
       "Hours_Studied                  0\n",
       "Attendance                     0\n",
       "Parental_Involvement           0\n",
       "Access_to_Resources            0\n",
       "Extracurricular_Activities     0\n",
       "Sleep_Hours                    0\n",
       "Previous_Scores                0\n",
       "Motivation_Level               0\n",
       "Internet_Access                0\n",
       "Tutoring_Sessions              0\n",
       "Family_Income                  0\n",
       "Teacher_Quality               78\n",
       "School_Type                    0\n",
       "Peer_Influence                 0\n",
       "Physical_Activity              0\n",
       "Learning_Disabilities          0\n",
       "Parental_Education_Level      90\n",
       "Distance_from_Home            67\n",
       "Gender                         0\n",
       "Exam_Score                     0\n",
       "dtype: int64"
      ]
     },
     "execution_count": 16,
     "metadata": {},
     "output_type": "execute_result"
    }
   ],
   "source": [
    "# check missing data\n",
    "df.isnull().sum()\n"
   ]
  },
  {
   "cell_type": "code",
   "execution_count": 21,
   "id": "025c7d24",
   "metadata": {},
   "outputs": [
    {
     "name": "stderr",
     "output_type": "stream",
     "text": [
      "C:\\Users\\Omar Ben Emad\\AppData\\Local\\Temp\\ipykernel_25680\\1184130705.py:1: FutureWarning: A value is trying to be set on a copy of a DataFrame or Series through chained assignment using an inplace method.\n",
      "The behavior will change in pandas 3.0. This inplace method will never work because the intermediate object on which we are setting values always behaves as a copy.\n",
      "\n",
      "For example, when doing 'df[col].method(value, inplace=True)', try using 'df.method({col: value}, inplace=True)' or df[col] = df[col].method(value) instead, to perform the operation inplace on the original object.\n",
      "\n",
      "\n",
      "  df['Teacher_Quality'].fillna(df['Teacher_Quality'].mode()[0], inplace=True)\n",
      "C:\\Users\\Omar Ben Emad\\AppData\\Local\\Temp\\ipykernel_25680\\1184130705.py:2: FutureWarning: A value is trying to be set on a copy of a DataFrame or Series through chained assignment using an inplace method.\n",
      "The behavior will change in pandas 3.0. This inplace method will never work because the intermediate object on which we are setting values always behaves as a copy.\n",
      "\n",
      "For example, when doing 'df[col].method(value, inplace=True)', try using 'df.method({col: value}, inplace=True)' or df[col] = df[col].method(value) instead, to perform the operation inplace on the original object.\n",
      "\n",
      "\n",
      "  df['Parental_Education_Level'].fillna(df['Parental_Education_Level'].mode()[0], inplace=True)\n",
      "C:\\Users\\Omar Ben Emad\\AppData\\Local\\Temp\\ipykernel_25680\\1184130705.py:3: FutureWarning: A value is trying to be set on a copy of a DataFrame or Series through chained assignment using an inplace method.\n",
      "The behavior will change in pandas 3.0. This inplace method will never work because the intermediate object on which we are setting values always behaves as a copy.\n",
      "\n",
      "For example, when doing 'df[col].method(value, inplace=True)', try using 'df.method({col: value}, inplace=True)' or df[col] = df[col].method(value) instead, to perform the operation inplace on the original object.\n",
      "\n",
      "\n",
      "  df['Distance_from_Home'].fillna(df['Distance_from_Home'].mode()[0], inplace=True)\n"
     ]
    }
   ],
   "source": [
    "df['Teacher_Quality'].fillna(df['Teacher_Quality'].mode()[0], inplace=True)\n",
    "df['Parental_Education_Level'].fillna(df['Parental_Education_Level'].mode()[0], inplace=True)\n",
    "df['Distance_from_Home'].fillna(df['Distance_from_Home'].mode()[0], inplace=True)\n"
   ]
  },
  {
   "cell_type": "code",
   "execution_count": 23,
   "id": "4651c5e6",
   "metadata": {},
   "outputs": [],
   "source": [
    "#label encoding\n",
    "from sklearn.preprocessing import LabelEncoder\n",
    "le = LabelEncoder()\n",
    "for col in categorical_cols:\n",
    "    df[col] = le.fit_transform(df[col])"
   ]
  },
  {
   "cell_type": "code",
   "execution_count": 24,
   "id": "87a72935",
   "metadata": {},
   "outputs": [],
   "source": [
    "from sklearn.preprocessing import StandardScaler\n",
    "\n",
    "scaler = StandardScaler()\n",
    "scaled_df = df.copy()\n",
    "scaled_df[df.columns] = scaler.fit_transform(df[df.columns])\n"
   ]
  },
  {
   "cell_type": "code",
   "execution_count": 25,
   "id": "548384a8",
   "metadata": {},
   "outputs": [],
   "source": [
    "df.drop_duplicates(inplace=True)\n"
   ]
  },
  {
   "cell_type": "code",
   "execution_count": 26,
   "id": "bb676c8d",
   "metadata": {},
   "outputs": [
    {
     "name": "stdout",
     "output_type": "stream",
     "text": [
      "                             count          mean       std       min  \\\n",
      "Hours_Studied               6607.0 -1.161474e-16  1.000076 -3.167760   \n",
      "Attendance                  6607.0 -3.089199e-16  1.000076 -1.730158   \n",
      "Parental_Involvement        6607.0  2.823028e-17  1.000076 -1.409559   \n",
      "Access_to_Resources         6607.0 -2.688598e-18  1.000076 -1.380517   \n",
      "Extracurricular_Activities  6607.0  1.312036e-16  1.000076 -1.214685   \n",
      "Sleep_Hours                 6607.0 -2.016449e-16  1.000076 -2.063380   \n",
      "Previous_Scores             6607.0  2.048712e-16  1.000076 -1.741167   \n",
      "Motivation_Level            6607.0 -2.054089e-16  1.000076 -1.671088   \n",
      "Internet_Access             6607.0 -8.818602e-17  1.000076 -3.498640   \n",
      "Tutoring_Sessions           6607.0  7.850707e-17  1.000076 -1.213934   \n",
      "Family_Income               6607.0 -4.194213e-17  1.000076 -1.632214   \n",
      "Teacher_Quality             6607.0  9.463866e-17  1.000076 -1.462550   \n",
      "School_Type                 6607.0  1.226001e-16  1.000076 -1.512845   \n",
      "Peer_Influence              6607.0 -8.280882e-17  1.000076 -1.575587   \n",
      "Physical_Activity           6607.0 -1.720703e-17  1.000076 -2.877953   \n",
      "Learning_Disabilities       6607.0 -1.989563e-17  1.000076 -0.342867   \n",
      "Parental_Education_Level    6607.0  8.146453e-17  1.000076 -1.283503   \n",
      "Distance_from_Home          6607.0  5.162109e-17  1.000076 -2.235736   \n",
      "Gender                      6607.0  8.065795e-18  1.000076 -1.168570   \n",
      "Exam_Score                  6607.0 -1.178681e-15  1.000076 -3.145283   \n",
      "\n",
      "                                 25%       50%       75%       max  \n",
      "Hours_Studied              -0.663645  0.004119  0.671882  4.010702  \n",
      "Attendance                 -0.864103  0.001953  0.868009  1.734065  \n",
      "Parental_Involvement       -1.409559  0.901062  0.901062  0.901062  \n",
      "Access_to_Resources        -1.380517  0.913804  0.913804  0.913804  \n",
      "Extracurricular_Activities -1.214685  0.823259  0.823259  0.823259  \n",
      "Sleep_Hours                -0.700990 -0.019796  0.661399  2.023788  \n",
      "Previous_Scores            -0.838307 -0.004898  0.897961  1.731370  \n",
      "Motivation_Level           -0.393061  0.884966  0.884966  0.884966  \n",
      "Internet_Access             0.285825  0.285825  0.285825  0.285825  \n",
      "Tutoring_Sessions          -0.401242 -0.401242  0.411451  5.287608  \n",
      "Family_Income              -0.284883 -0.284883  1.062448  1.062448  \n",
      "Teacher_Quality            -1.462550  0.768332  0.768332  0.768332  \n",
      "School_Type                -1.512845  0.661006  0.661006  0.661006  \n",
      "Peer_Influence             -0.252518 -0.252518  1.070550  1.070550  \n",
      "Physical_Activity          -0.938377  0.031411  1.001199  2.940776  \n",
      "Learning_Disabilities      -0.342867 -0.342867 -0.342867  2.916586  \n",
      "Parental_Education_Level   -1.283503  0.148221  0.148221  1.579946  \n",
      "Distance_from_Home         -0.743665  0.748407  0.748407  0.748407  \n",
      "Gender                     -1.168570  0.855746  0.855746  0.855746  \n",
      "Exam_Score                 -0.574696 -0.060578  0.453539  8.679419  \n"
     ]
    }
   ],
   "source": [
    "print(scaled_df.describe().T)\n"
   ]
  },
  {
   "cell_type": "code",
   "execution_count": 27,
   "id": "9d1a2b38",
   "metadata": {},
   "outputs": [],
   "source": [
    "X = df.drop('Exam_Score', axis=1)\n",
    "y = df['Exam_Score']\n",
    "X_scaled = scaler.fit_transform(X)\n",
    "scaled_df = pd.DataFrame(X_scaled, columns=X.columns)\n",
    "scaled_df['Exam_Score'] = y  # reattach target\n"
   ]
  },
  {
   "cell_type": "code",
   "execution_count": 28,
   "id": "2fa5c17d",
   "metadata": {},
   "outputs": [
    {
     "name": "stdout",
     "output_type": "stream",
     "text": [
      "✅ Cleaned dataset saved to: f:\\Omar 3amora\\Elevvo Tech\\Task 1 Student Score Prediction\\data\\StudentPerformanceFactors_Cleaned.csv\n"
     ]
    }
   ],
   "source": [
    "output_path = os.path.join(BASE_DIR, \"data\", \"StudentPerformanceFactors_Cleaned.csv\")\n",
    "scaled_df.to_csv(output_path, index=False)\n",
    "print(f\"✅ Cleaned dataset saved to: {output_path}\")\n"
   ]
  }
 ],
 "metadata": {
  "kernelspec": {
   "display_name": "Python 3",
   "language": "python",
   "name": "python3"
  },
  "language_info": {
   "codemirror_mode": {
    "name": "ipython",
    "version": 3
   },
   "file_extension": ".py",
   "mimetype": "text/x-python",
   "name": "python",
   "nbconvert_exporter": "python",
   "pygments_lexer": "ipython3",
   "version": "3.10.8"
  }
 },
 "nbformat": 4,
 "nbformat_minor": 5
}
